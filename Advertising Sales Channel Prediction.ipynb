{
 "cells": [
  {
   "cell_type": "markdown",
   "metadata": {},
   "source": [
    "# Sales Channel Prediction Case Study  \n",
    "\n",
    "When a company enters a market, the distribution strategy and channel it uses are keys to its success in the market, as well as market know-how and customer knowledge and understanding. Because an effective distribution strategy under efficient supply-chain management opens doors for attaining competitive advantage and strong brand equity in the market, it is a component of the marketing mix that cannot be ignored . \n",
    "\n",
    "The distribution strategy and the channel design have to be right the first time. The case study of Sales channel includes the detailed study of TV, radio and newspaper channel. The predict the total sales generated from all the sales channel.  "
   ]
  },
  {
   "cell_type": "code",
   "execution_count": 80,
   "metadata": {},
   "outputs": [],
   "source": [
    "import pandas as pd\n",
    "import numpy as np\n",
    "import seaborn as sns\n",
    "import matplotlib.pyplot as plt\n",
    "import warnings\n",
    "warnings.filterwarnings('ignore')"
   ]
  },
  {
   "cell_type": "code",
   "execution_count": 81,
   "metadata": {},
   "outputs": [
    {
     "data": {
      "text/html": [
       "<div>\n",
       "<style scoped>\n",
       "    .dataframe tbody tr th:only-of-type {\n",
       "        vertical-align: middle;\n",
       "    }\n",
       "\n",
       "    .dataframe tbody tr th {\n",
       "        vertical-align: top;\n",
       "    }\n",
       "\n",
       "    .dataframe thead th {\n",
       "        text-align: right;\n",
       "    }\n",
       "</style>\n",
       "<table border=\"1\" class=\"dataframe\">\n",
       "  <thead>\n",
       "    <tr style=\"text-align: right;\">\n",
       "      <th></th>\n",
       "      <th>Unnamed: 0</th>\n",
       "      <th>TV</th>\n",
       "      <th>radio</th>\n",
       "      <th>newspaper</th>\n",
       "      <th>sales</th>\n",
       "    </tr>\n",
       "  </thead>\n",
       "  <tbody>\n",
       "    <tr>\n",
       "      <th>0</th>\n",
       "      <td>1</td>\n",
       "      <td>230.1</td>\n",
       "      <td>37.8</td>\n",
       "      <td>69.2</td>\n",
       "      <td>22.1</td>\n",
       "    </tr>\n",
       "    <tr>\n",
       "      <th>1</th>\n",
       "      <td>2</td>\n",
       "      <td>44.5</td>\n",
       "      <td>39.3</td>\n",
       "      <td>45.1</td>\n",
       "      <td>10.4</td>\n",
       "    </tr>\n",
       "    <tr>\n",
       "      <th>2</th>\n",
       "      <td>3</td>\n",
       "      <td>17.2</td>\n",
       "      <td>45.9</td>\n",
       "      <td>69.3</td>\n",
       "      <td>9.3</td>\n",
       "    </tr>\n",
       "    <tr>\n",
       "      <th>3</th>\n",
       "      <td>4</td>\n",
       "      <td>151.5</td>\n",
       "      <td>41.3</td>\n",
       "      <td>58.5</td>\n",
       "      <td>18.5</td>\n",
       "    </tr>\n",
       "    <tr>\n",
       "      <th>4</th>\n",
       "      <td>5</td>\n",
       "      <td>180.8</td>\n",
       "      <td>10.8</td>\n",
       "      <td>58.4</td>\n",
       "      <td>12.9</td>\n",
       "    </tr>\n",
       "    <tr>\n",
       "      <th>...</th>\n",
       "      <td>...</td>\n",
       "      <td>...</td>\n",
       "      <td>...</td>\n",
       "      <td>...</td>\n",
       "      <td>...</td>\n",
       "    </tr>\n",
       "    <tr>\n",
       "      <th>195</th>\n",
       "      <td>196</td>\n",
       "      <td>38.2</td>\n",
       "      <td>3.7</td>\n",
       "      <td>13.8</td>\n",
       "      <td>7.6</td>\n",
       "    </tr>\n",
       "    <tr>\n",
       "      <th>196</th>\n",
       "      <td>197</td>\n",
       "      <td>94.2</td>\n",
       "      <td>4.9</td>\n",
       "      <td>8.1</td>\n",
       "      <td>9.7</td>\n",
       "    </tr>\n",
       "    <tr>\n",
       "      <th>197</th>\n",
       "      <td>198</td>\n",
       "      <td>177.0</td>\n",
       "      <td>9.3</td>\n",
       "      <td>6.4</td>\n",
       "      <td>12.8</td>\n",
       "    </tr>\n",
       "    <tr>\n",
       "      <th>198</th>\n",
       "      <td>199</td>\n",
       "      <td>283.6</td>\n",
       "      <td>42.0</td>\n",
       "      <td>66.2</td>\n",
       "      <td>25.5</td>\n",
       "    </tr>\n",
       "    <tr>\n",
       "      <th>199</th>\n",
       "      <td>200</td>\n",
       "      <td>232.1</td>\n",
       "      <td>8.6</td>\n",
       "      <td>8.7</td>\n",
       "      <td>13.4</td>\n",
       "    </tr>\n",
       "  </tbody>\n",
       "</table>\n",
       "<p>200 rows × 5 columns</p>\n",
       "</div>"
      ],
      "text/plain": [
       "     Unnamed: 0     TV  radio  newspaper  sales\n",
       "0             1  230.1   37.8       69.2   22.1\n",
       "1             2   44.5   39.3       45.1   10.4\n",
       "2             3   17.2   45.9       69.3    9.3\n",
       "3             4  151.5   41.3       58.5   18.5\n",
       "4             5  180.8   10.8       58.4   12.9\n",
       "..          ...    ...    ...        ...    ...\n",
       "195         196   38.2    3.7       13.8    7.6\n",
       "196         197   94.2    4.9        8.1    9.7\n",
       "197         198  177.0    9.3        6.4   12.8\n",
       "198         199  283.6   42.0       66.2   25.5\n",
       "199         200  232.1    8.6        8.7   13.4\n",
       "\n",
       "[200 rows x 5 columns]"
      ]
     },
     "execution_count": 81,
     "metadata": {},
     "output_type": "execute_result"
    }
   ],
   "source": [
    "df=pd.read_csv(r'E:\\Data Science Certificates\\practice project\\Advertising Sales Channel Prediction\\Advertising.csv')\n",
    "df               "
   ]
  },
  {
   "cell_type": "code",
   "execution_count": 8,
   "metadata": {},
   "outputs": [],
   "source": [
    "# As we can see there are two indexing showing hence we will drop Unnamed one and keep python defaoult on as it is.\n",
    "\n",
    "df.drop(\"Unnamed: 0\",axis=1,inplace=True)"
   ]
  },
  {
   "cell_type": "code",
   "execution_count": 9,
   "metadata": {},
   "outputs": [
    {
     "data": {
      "text/html": [
       "<div>\n",
       "<style scoped>\n",
       "    .dataframe tbody tr th:only-of-type {\n",
       "        vertical-align: middle;\n",
       "    }\n",
       "\n",
       "    .dataframe tbody tr th {\n",
       "        vertical-align: top;\n",
       "    }\n",
       "\n",
       "    .dataframe thead th {\n",
       "        text-align: right;\n",
       "    }\n",
       "</style>\n",
       "<table border=\"1\" class=\"dataframe\">\n",
       "  <thead>\n",
       "    <tr style=\"text-align: right;\">\n",
       "      <th></th>\n",
       "      <th>TV</th>\n",
       "      <th>radio</th>\n",
       "      <th>newspaper</th>\n",
       "      <th>sales</th>\n",
       "    </tr>\n",
       "  </thead>\n",
       "  <tbody>\n",
       "    <tr>\n",
       "      <th>0</th>\n",
       "      <td>230.1</td>\n",
       "      <td>37.8</td>\n",
       "      <td>69.2</td>\n",
       "      <td>22.1</td>\n",
       "    </tr>\n",
       "    <tr>\n",
       "      <th>1</th>\n",
       "      <td>44.5</td>\n",
       "      <td>39.3</td>\n",
       "      <td>45.1</td>\n",
       "      <td>10.4</td>\n",
       "    </tr>\n",
       "    <tr>\n",
       "      <th>2</th>\n",
       "      <td>17.2</td>\n",
       "      <td>45.9</td>\n",
       "      <td>69.3</td>\n",
       "      <td>9.3</td>\n",
       "    </tr>\n",
       "    <tr>\n",
       "      <th>3</th>\n",
       "      <td>151.5</td>\n",
       "      <td>41.3</td>\n",
       "      <td>58.5</td>\n",
       "      <td>18.5</td>\n",
       "    </tr>\n",
       "    <tr>\n",
       "      <th>4</th>\n",
       "      <td>180.8</td>\n",
       "      <td>10.8</td>\n",
       "      <td>58.4</td>\n",
       "      <td>12.9</td>\n",
       "    </tr>\n",
       "    <tr>\n",
       "      <th>...</th>\n",
       "      <td>...</td>\n",
       "      <td>...</td>\n",
       "      <td>...</td>\n",
       "      <td>...</td>\n",
       "    </tr>\n",
       "    <tr>\n",
       "      <th>195</th>\n",
       "      <td>38.2</td>\n",
       "      <td>3.7</td>\n",
       "      <td>13.8</td>\n",
       "      <td>7.6</td>\n",
       "    </tr>\n",
       "    <tr>\n",
       "      <th>196</th>\n",
       "      <td>94.2</td>\n",
       "      <td>4.9</td>\n",
       "      <td>8.1</td>\n",
       "      <td>9.7</td>\n",
       "    </tr>\n",
       "    <tr>\n",
       "      <th>197</th>\n",
       "      <td>177.0</td>\n",
       "      <td>9.3</td>\n",
       "      <td>6.4</td>\n",
       "      <td>12.8</td>\n",
       "    </tr>\n",
       "    <tr>\n",
       "      <th>198</th>\n",
       "      <td>283.6</td>\n",
       "      <td>42.0</td>\n",
       "      <td>66.2</td>\n",
       "      <td>25.5</td>\n",
       "    </tr>\n",
       "    <tr>\n",
       "      <th>199</th>\n",
       "      <td>232.1</td>\n",
       "      <td>8.6</td>\n",
       "      <td>8.7</td>\n",
       "      <td>13.4</td>\n",
       "    </tr>\n",
       "  </tbody>\n",
       "</table>\n",
       "<p>200 rows × 4 columns</p>\n",
       "</div>"
      ],
      "text/plain": [
       "        TV  radio  newspaper  sales\n",
       "0    230.1   37.8       69.2   22.1\n",
       "1     44.5   39.3       45.1   10.4\n",
       "2     17.2   45.9       69.3    9.3\n",
       "3    151.5   41.3       58.5   18.5\n",
       "4    180.8   10.8       58.4   12.9\n",
       "..     ...    ...        ...    ...\n",
       "195   38.2    3.7       13.8    7.6\n",
       "196   94.2    4.9        8.1    9.7\n",
       "197  177.0    9.3        6.4   12.8\n",
       "198  283.6   42.0       66.2   25.5\n",
       "199  232.1    8.6        8.7   13.4\n",
       "\n",
       "[200 rows x 4 columns]"
      ]
     },
     "execution_count": 9,
     "metadata": {},
     "output_type": "execute_result"
    }
   ],
   "source": [
    "df"
   ]
  },
  {
   "cell_type": "markdown",
   "metadata": {},
   "source": [
    "Now looks good"
   ]
  },
  {
   "cell_type": "code",
   "execution_count": 10,
   "metadata": {},
   "outputs": [
    {
     "data": {
      "text/plain": [
       "(200, 4)"
      ]
     },
     "execution_count": 10,
     "metadata": {},
     "output_type": "execute_result"
    }
   ],
   "source": [
    "df.shape"
   ]
  },
  {
   "cell_type": "markdown",
   "metadata": {},
   "source": [
    "We have 200 rows and 4 colums"
   ]
  },
  {
   "cell_type": "code",
   "execution_count": 11,
   "metadata": {},
   "outputs": [
    {
     "data": {
      "text/html": [
       "<div>\n",
       "<style scoped>\n",
       "    .dataframe tbody tr th:only-of-type {\n",
       "        vertical-align: middle;\n",
       "    }\n",
       "\n",
       "    .dataframe tbody tr th {\n",
       "        vertical-align: top;\n",
       "    }\n",
       "\n",
       "    .dataframe thead th {\n",
       "        text-align: right;\n",
       "    }\n",
       "</style>\n",
       "<table border=\"1\" class=\"dataframe\">\n",
       "  <thead>\n",
       "    <tr style=\"text-align: right;\">\n",
       "      <th></th>\n",
       "      <th>TV</th>\n",
       "      <th>radio</th>\n",
       "      <th>newspaper</th>\n",
       "      <th>sales</th>\n",
       "    </tr>\n",
       "  </thead>\n",
       "  <tbody>\n",
       "    <tr>\n",
       "      <th>0</th>\n",
       "      <td>230.1</td>\n",
       "      <td>37.8</td>\n",
       "      <td>69.2</td>\n",
       "      <td>22.1</td>\n",
       "    </tr>\n",
       "    <tr>\n",
       "      <th>1</th>\n",
       "      <td>44.5</td>\n",
       "      <td>39.3</td>\n",
       "      <td>45.1</td>\n",
       "      <td>10.4</td>\n",
       "    </tr>\n",
       "    <tr>\n",
       "      <th>2</th>\n",
       "      <td>17.2</td>\n",
       "      <td>45.9</td>\n",
       "      <td>69.3</td>\n",
       "      <td>9.3</td>\n",
       "    </tr>\n",
       "    <tr>\n",
       "      <th>3</th>\n",
       "      <td>151.5</td>\n",
       "      <td>41.3</td>\n",
       "      <td>58.5</td>\n",
       "      <td>18.5</td>\n",
       "    </tr>\n",
       "    <tr>\n",
       "      <th>4</th>\n",
       "      <td>180.8</td>\n",
       "      <td>10.8</td>\n",
       "      <td>58.4</td>\n",
       "      <td>12.9</td>\n",
       "    </tr>\n",
       "  </tbody>\n",
       "</table>\n",
       "</div>"
      ],
      "text/plain": [
       "      TV  radio  newspaper  sales\n",
       "0  230.1   37.8       69.2   22.1\n",
       "1   44.5   39.3       45.1   10.4\n",
       "2   17.2   45.9       69.3    9.3\n",
       "3  151.5   41.3       58.5   18.5\n",
       "4  180.8   10.8       58.4   12.9"
      ]
     },
     "execution_count": 11,
     "metadata": {},
     "output_type": "execute_result"
    }
   ],
   "source": [
    "df.head(5)"
   ]
  },
  {
   "cell_type": "markdown",
   "metadata": {},
   "source": [
    "Looking at the sales target column we are getting idea about targets and they are countineus. Lets explore more"
   ]
  },
  {
   "cell_type": "code",
   "execution_count": 12,
   "metadata": {},
   "outputs": [
    {
     "data": {
      "text/html": [
       "<div>\n",
       "<style scoped>\n",
       "    .dataframe tbody tr th:only-of-type {\n",
       "        vertical-align: middle;\n",
       "    }\n",
       "\n",
       "    .dataframe tbody tr th {\n",
       "        vertical-align: top;\n",
       "    }\n",
       "\n",
       "    .dataframe thead th {\n",
       "        text-align: right;\n",
       "    }\n",
       "</style>\n",
       "<table border=\"1\" class=\"dataframe\">\n",
       "  <thead>\n",
       "    <tr style=\"text-align: right;\">\n",
       "      <th></th>\n",
       "      <th>TV</th>\n",
       "      <th>radio</th>\n",
       "      <th>newspaper</th>\n",
       "      <th>sales</th>\n",
       "    </tr>\n",
       "  </thead>\n",
       "  <tbody>\n",
       "    <tr>\n",
       "      <th>195</th>\n",
       "      <td>38.2</td>\n",
       "      <td>3.7</td>\n",
       "      <td>13.8</td>\n",
       "      <td>7.6</td>\n",
       "    </tr>\n",
       "    <tr>\n",
       "      <th>196</th>\n",
       "      <td>94.2</td>\n",
       "      <td>4.9</td>\n",
       "      <td>8.1</td>\n",
       "      <td>9.7</td>\n",
       "    </tr>\n",
       "    <tr>\n",
       "      <th>197</th>\n",
       "      <td>177.0</td>\n",
       "      <td>9.3</td>\n",
       "      <td>6.4</td>\n",
       "      <td>12.8</td>\n",
       "    </tr>\n",
       "    <tr>\n",
       "      <th>198</th>\n",
       "      <td>283.6</td>\n",
       "      <td>42.0</td>\n",
       "      <td>66.2</td>\n",
       "      <td>25.5</td>\n",
       "    </tr>\n",
       "    <tr>\n",
       "      <th>199</th>\n",
       "      <td>232.1</td>\n",
       "      <td>8.6</td>\n",
       "      <td>8.7</td>\n",
       "      <td>13.4</td>\n",
       "    </tr>\n",
       "  </tbody>\n",
       "</table>\n",
       "</div>"
      ],
      "text/plain": [
       "        TV  radio  newspaper  sales\n",
       "195   38.2    3.7       13.8    7.6\n",
       "196   94.2    4.9        8.1    9.7\n",
       "197  177.0    9.3        6.4   12.8\n",
       "198  283.6   42.0       66.2   25.5\n",
       "199  232.1    8.6        8.7   13.4"
      ]
     },
     "execution_count": 12,
     "metadata": {},
     "output_type": "execute_result"
    }
   ],
   "source": [
    "df.tail(5)"
   ]
  },
  {
   "cell_type": "code",
   "execution_count": 13,
   "metadata": {},
   "outputs": [
    {
     "data": {
      "text/plain": [
       "TV           0\n",
       "radio        0\n",
       "newspaper    0\n",
       "sales        0\n",
       "dtype: int64"
      ]
     },
     "execution_count": 13,
     "metadata": {},
     "output_type": "execute_result"
    }
   ],
   "source": [
    "df.isnull().sum()"
   ]
  },
  {
   "cell_type": "code",
   "execution_count": 14,
   "metadata": {},
   "outputs": [],
   "source": [
    "# we dont have any null values in data set"
   ]
  },
  {
   "cell_type": "code",
   "execution_count": 15,
   "metadata": {},
   "outputs": [
    {
     "data": {
      "text/plain": [
       "TV           float64\n",
       "radio        float64\n",
       "newspaper    float64\n",
       "sales        float64\n",
       "dtype: object"
      ]
     },
     "execution_count": 15,
     "metadata": {},
     "output_type": "execute_result"
    }
   ],
   "source": [
    "df.dtypes"
   ]
  },
  {
   "cell_type": "code",
   "execution_count": 16,
   "metadata": {},
   "outputs": [],
   "source": [
    "# all are floats which is acceptable and we dont need to use any encoding here"
   ]
  },
  {
   "cell_type": "code",
   "execution_count": 17,
   "metadata": {},
   "outputs": [
    {
     "data": {
      "text/plain": [
       "Index         128\n",
       "TV           1600\n",
       "radio        1600\n",
       "newspaper    1600\n",
       "sales        1600\n",
       "dtype: int64"
      ]
     },
     "execution_count": 17,
     "metadata": {},
     "output_type": "execute_result"
    }
   ],
   "source": [
    "df.memory_usage()"
   ]
  },
  {
   "cell_type": "code",
   "execution_count": 18,
   "metadata": {},
   "outputs": [],
   "source": [
    "# Memory usage is also very low as we dont have high valume data set"
   ]
  },
  {
   "cell_type": "code",
   "execution_count": 19,
   "metadata": {},
   "outputs": [
    {
     "name": "stdout",
     "output_type": "stream",
     "text": [
      "<class 'pandas.core.frame.DataFrame'>\n",
      "RangeIndex: 200 entries, 0 to 199\n",
      "Data columns (total 4 columns):\n",
      " #   Column     Non-Null Count  Dtype  \n",
      "---  ------     --------------  -----  \n",
      " 0   TV         200 non-null    float64\n",
      " 1   radio      200 non-null    float64\n",
      " 2   newspaper  200 non-null    float64\n",
      " 3   sales      200 non-null    float64\n",
      "dtypes: float64(4)\n",
      "memory usage: 6.4 KB\n"
     ]
    }
   ],
   "source": [
    "df.info()"
   ]
  },
  {
   "cell_type": "code",
   "execution_count": 20,
   "metadata": {},
   "outputs": [],
   "source": [
    "# Total memory use is 6.4 KB only"
   ]
  },
  {
   "cell_type": "markdown",
   "metadata": {},
   "source": [
    "Checking unique values in target column \"sales\""
   ]
  },
  {
   "cell_type": "code",
   "execution_count": 21,
   "metadata": {},
   "outputs": [
    {
     "data": {
      "text/plain": [
       "array([22.1, 10.4,  9.3, 18.5, 12.9,  7.2, 11.8, 13.2,  4.8, 10.6,  8.6,\n",
       "       17.4,  9.2,  9.7, 19. , 22.4, 12.5, 24.4, 11.3, 14.6, 18. ,  5.6,\n",
       "       15.5, 12. , 15. , 15.9, 18.9, 10.5, 21.4, 11.9,  9.6,  9.5, 12.8,\n",
       "       25.4, 14.7, 10.1, 21.5, 16.6, 17.1, 20.7,  8.5, 14.9, 23.2, 14.8,\n",
       "       11.4, 10.7, 22.6, 21.2, 20.2, 23.7,  5.5, 23.8, 18.4,  8.1, 24.2,\n",
       "       15.7, 14. , 13.4, 22.3, 18.3, 12.4,  8.8, 11. , 17. ,  8.7,  6.9,\n",
       "       14.2,  5.3, 12.3, 13.6, 21.7, 15.2, 16. , 16.7, 11.2,  7.3, 19.4,\n",
       "       22.2, 11.5, 16.9, 11.7, 17.2, 19.2, 19.8, 21.8, 14.1, 12.6, 12.2,\n",
       "        9.4,  6.6,  7. , 11.6, 19.7, 24.7,  1.6, 12.7,  5.7, 19.6, 10.8,\n",
       "       20.8, 10.9, 20.1, 10.3, 16.1, 15.6,  3.2, 15.3, 14.4, 13.3,  8. ,\n",
       "        8.4, 14.5,  7.6, 27. , 26.2, 17.6, 17.3,  6.7,  9.9,  5.9, 25.5])"
      ]
     },
     "execution_count": 21,
     "metadata": {},
     "output_type": "execute_result"
    }
   ],
   "source": [
    "df['sales'].unique()"
   ]
  },
  {
   "cell_type": "code",
   "execution_count": 22,
   "metadata": {},
   "outputs": [],
   "source": [
    "# Again we can see these are countineus value and regression problem"
   ]
  },
  {
   "cell_type": "code",
   "execution_count": 23,
   "metadata": {},
   "outputs": [
    {
     "data": {
      "text/plain": [
       "9.7     5\n",
       "12.9    4\n",
       "11.7    4\n",
       "15.9    4\n",
       "25.4    3\n",
       "       ..\n",
       "15.7    1\n",
       "14.2    1\n",
       "11.2    1\n",
       "19.4    1\n",
       "18.5    1\n",
       "Name: sales, Length: 121, dtype: int64"
      ]
     },
     "execution_count": 23,
     "metadata": {},
     "output_type": "execute_result"
    }
   ],
   "source": [
    "df['sales'].value_counts()"
   ]
  },
  {
   "cell_type": "code",
   "execution_count": 24,
   "metadata": {},
   "outputs": [
    {
     "data": {
      "text/html": [
       "<div>\n",
       "<style scoped>\n",
       "    .dataframe tbody tr th:only-of-type {\n",
       "        vertical-align: middle;\n",
       "    }\n",
       "\n",
       "    .dataframe tbody tr th {\n",
       "        vertical-align: top;\n",
       "    }\n",
       "\n",
       "    .dataframe thead th {\n",
       "        text-align: right;\n",
       "    }\n",
       "</style>\n",
       "<table border=\"1\" class=\"dataframe\">\n",
       "  <thead>\n",
       "    <tr style=\"text-align: right;\">\n",
       "      <th></th>\n",
       "      <th>TV</th>\n",
       "      <th>radio</th>\n",
       "      <th>newspaper</th>\n",
       "      <th>sales</th>\n",
       "    </tr>\n",
       "  </thead>\n",
       "  <tbody>\n",
       "  </tbody>\n",
       "</table>\n",
       "</div>"
      ],
      "text/plain": [
       "Empty DataFrame\n",
       "Columns: [TV, radio, newspaper, sales]\n",
       "Index: []"
      ]
     },
     "execution_count": 24,
     "metadata": {},
     "output_type": "execute_result"
    }
   ],
   "source": [
    "#Lets check if there is any space present in data set or not\n",
    "\n",
    "df.loc[df['sales']==\" \"]"
   ]
  },
  {
   "cell_type": "markdown",
   "metadata": {},
   "source": [
    "So no space present in data set"
   ]
  },
  {
   "cell_type": "markdown",
   "metadata": {},
   "source": [
    "# EDA"
   ]
  },
  {
   "cell_type": "code",
   "execution_count": 25,
   "metadata": {},
   "outputs": [
    {
     "data": {
      "text/plain": [
       "<AxesSubplot:xlabel='TV', ylabel='sales'>"
      ]
     },
     "execution_count": 25,
     "metadata": {},
     "output_type": "execute_result"
    },
    {
     "data": {
      "image/png": "[encoded data removed]",
      "text/plain": [
       "<Figure size 432x288 with 1 Axes>"
      ]
     },
     "metadata": {
      "needs_background": "light"
     },
     "output_type": "display_data"
    }
   ],
   "source": [
    "sns.scatterplot(data=df,x=\"TV\",y=\"sales\")"
   ]
  },
  {
   "cell_type": "markdown",
   "metadata": {},
   "source": [
    "As we can observe from above chart that more we invest in TV advertising more our sales is increasing"
   ]
  },
  {
   "cell_type": "code",
   "execution_count": 26,
   "metadata": {},
   "outputs": [
    {
     "data": {
      "text/plain": [
       "<AxesSubplot:xlabel='radio', ylabel='sales'>"
      ]
     },
     "execution_count": 26,
     "metadata": {},
     "output_type": "execute_result"
    },
    {
     "data": {
      "image/png": "[encoded data removed]",
      "text/plain": [
       "<Figure size 432x288 with 1 Axes>"
      ]
     },
     "metadata": {
      "needs_background": "light"
     },
     "output_type": "display_data"
    }
   ],
   "source": [
    "sns.scatterplot(data=df,x=\"radio\",y=\"sales\")"
   ]
  },
  {
   "cell_type": "markdown",
   "metadata": {},
   "source": [
    "In above chart we can see little postive raltion between radio and sales however I can also observe that even sales is less if we see radio count between 40 to 50 that means some times it is not that much benificial to advertise through radio becasue now a days radio user are very low"
   ]
  },
  {
   "cell_type": "code",
   "execution_count": 27,
   "metadata": {},
   "outputs": [
    {
     "data": {
      "text/plain": [
       "<AxesSubplot:xlabel='newspaper', ylabel='sales'>"
      ]
     },
     "execution_count": 27,
     "metadata": {},
     "output_type": "execute_result"
    },
    {
     "data": {
      "image/png": "[encoded data removed]",
      "text/plain": [
       "<Figure size 432x288 with 1 Axes>"
      ]
     },
     "metadata": {
      "needs_background": "light"
     },
     "output_type": "display_data"
    }
   ],
   "source": [
    "sns.scatterplot(data=df,x=\"newspaper\",y=\"sales\")"
   ]
  },
  {
   "cell_type": "markdown",
   "metadata": {},
   "source": [
    "Again here in newspaper it shows that good as compare to radio"
   ]
  },
  {
   "cell_type": "code",
   "execution_count": 28,
   "metadata": {},
   "outputs": [
    {
     "data": {
      "text/plain": [
       "<seaborn.axisgrid.PairGrid at 0x1ead40c14f0>"
      ]
     },
     "execution_count": 28,
     "metadata": {},
     "output_type": "execute_result"
    },
    {
     "data": {
      "image/png": "[encoded data removed]",
      "text/plain": [
       "<Figure size 720x720 with 20 Axes>"
      ]
     },
     "metadata": {
      "needs_background": "light"
     },
     "output_type": "display_data"
    }
   ],
   "source": [
    "sns.pairplot(df)"
   ]
  },
  {
   "cell_type": "markdown",
   "metadata": {},
   "source": [
    "We can observe from above plot realtion of all variable with each other. where I can see TV is most effectiive advertisment channle "
   ]
  },
  {
   "cell_type": "code",
   "execution_count": 29,
   "metadata": {},
   "outputs": [
    {
     "data": {
      "text/plain": [
       "newspaper    0.228299\n",
       "radio        0.576223\n",
       "TV           0.782224\n",
       "sales        1.000000\n",
       "Name: sales, dtype: float64"
      ]
     },
     "execution_count": 29,
     "metadata": {},
     "output_type": "execute_result"
    }
   ],
   "source": [
    "df.corr()['sales'].sort_values()"
   ]
  },
  {
   "cell_type": "code",
   "execution_count": 30,
   "metadata": {},
   "outputs": [
    {
     "data": {
      "text/plain": [
       "<AxesSubplot:>"
      ]
     },
     "execution_count": 30,
     "metadata": {},
     "output_type": "execute_result"
    },
    {
     "data": {
      "image/png": "[encoded data removed]",
      "text/plain": [
       "<Figure size 432x288 with 2 Axes>"
      ]
     },
     "metadata": {
      "needs_background": "light"
     },
     "output_type": "display_data"
    }
   ],
   "source": [
    "# Lets plot correlation on heatmap to get better visualisation\n",
    "\n",
    "sns.heatmap(df.corr(),annot=True)"
   ]
  },
  {
   "cell_type": "markdown",
   "metadata": {},
   "source": [
    "So we can see that TV has highest positive correlation radion is on second rank and newspaper is having lowest impact."
   ]
  },
  {
   "cell_type": "code",
   "execution_count": 31,
   "metadata": {},
   "outputs": [],
   "source": [
    "# Lets do some statistical analysis"
   ]
  },
  {
   "cell_type": "code",
   "execution_count": 32,
   "metadata": {},
   "outputs": [
    {
     "data": {
      "text/html": [
       "<div>\n",
       "<style scoped>\n",
       "    .dataframe tbody tr th:only-of-type {\n",
       "        vertical-align: middle;\n",
       "    }\n",
       "\n",
       "    .dataframe tbody tr th {\n",
       "        vertical-align: top;\n",
       "    }\n",
       "\n",
       "    .dataframe thead th {\n",
       "        text-align: right;\n",
       "    }\n",
       "</style>\n",
       "<table border=\"1\" class=\"dataframe\">\n",
       "  <thead>\n",
       "    <tr style=\"text-align: right;\">\n",
       "      <th></th>\n",
       "      <th>count</th>\n",
       "      <th>mean</th>\n",
       "      <th>std</th>\n",
       "      <th>min</th>\n",
       "      <th>25%</th>\n",
       "      <th>50%</th>\n",
       "      <th>75%</th>\n",
       "      <th>max</th>\n",
       "    </tr>\n",
       "  </thead>\n",
       "  <tbody>\n",
       "    <tr>\n",
       "      <th>TV</th>\n",
       "      <td>200.0</td>\n",
       "      <td>147.0425</td>\n",
       "      <td>85.854236</td>\n",
       "      <td>0.7</td>\n",
       "      <td>74.375</td>\n",
       "      <td>149.75</td>\n",
       "      <td>218.825</td>\n",
       "      <td>296.4</td>\n",
       "    </tr>\n",
       "    <tr>\n",
       "      <th>radio</th>\n",
       "      <td>200.0</td>\n",
       "      <td>23.2640</td>\n",
       "      <td>14.846809</td>\n",
       "      <td>0.0</td>\n",
       "      <td>9.975</td>\n",
       "      <td>22.90</td>\n",
       "      <td>36.525</td>\n",
       "      <td>49.6</td>\n",
       "    </tr>\n",
       "    <tr>\n",
       "      <th>newspaper</th>\n",
       "      <td>200.0</td>\n",
       "      <td>30.5540</td>\n",
       "      <td>21.778621</td>\n",
       "      <td>0.3</td>\n",
       "      <td>12.750</td>\n",
       "      <td>25.75</td>\n",
       "      <td>45.100</td>\n",
       "      <td>114.0</td>\n",
       "    </tr>\n",
       "    <tr>\n",
       "      <th>sales</th>\n",
       "      <td>200.0</td>\n",
       "      <td>14.0225</td>\n",
       "      <td>5.217457</td>\n",
       "      <td>1.6</td>\n",
       "      <td>10.375</td>\n",
       "      <td>12.90</td>\n",
       "      <td>17.400</td>\n",
       "      <td>27.0</td>\n",
       "    </tr>\n",
       "  </tbody>\n",
       "</table>\n",
       "</div>"
      ],
      "text/plain": [
       "           count      mean        std  min     25%     50%      75%    max\n",
       "TV         200.0  147.0425  85.854236  0.7  74.375  149.75  218.825  296.4\n",
       "radio      200.0   23.2640  14.846809  0.0   9.975   22.90   36.525   49.6\n",
       "newspaper  200.0   30.5540  21.778621  0.3  12.750   25.75   45.100  114.0\n",
       "sales      200.0   14.0225   5.217457  1.6  10.375   12.90   17.400   27.0"
      ]
     },
     "execution_count": 32,
     "metadata": {},
     "output_type": "execute_result"
    }
   ],
   "source": [
    "df.describe().T"
   ]
  },
  {
   "cell_type": "markdown",
   "metadata": {},
   "source": [
    "from above data we can see that \"TV\" has good distributed data and news paper data is highlyy spreaded one.   "
   ]
  },
  {
   "cell_type": "code",
   "execution_count": 33,
   "metadata": {},
   "outputs": [
    {
     "data": {
      "text/plain": [
       "TV          -0.069853\n",
       "radio        0.094175\n",
       "newspaper    0.894720\n",
       "sales        0.407571\n",
       "dtype: float64"
      ]
     },
     "execution_count": 33,
     "metadata": {},
     "output_type": "execute_result"
    }
   ],
   "source": [
    "df.skew()"
   ]
  },
  {
   "cell_type": "markdown",
   "metadata": {},
   "source": [
    "Skeness is present in data sent +/- 0.5\n",
    "\n",
    "As per above threshold newspaper and has skewness present which we need to treat"
   ]
  },
  {
   "cell_type": "code",
   "execution_count": 34,
   "metadata": {},
   "outputs": [
    {
     "data": {
      "text/plain": [
       "<AxesSubplot:xlabel='TV', ylabel='Density'>"
      ]
     },
     "execution_count": 34,
     "metadata": {},
     "output_type": "execute_result"
    },
    {
     "data": {
      "image/png": "[encoded data removed]",
      "text/plain": [
       "<Figure size 432x288 with 1 Axes>"
      ]
     },
     "metadata": {
      "needs_background": "light"
     },
     "output_type": "display_data"
    }
   ],
   "source": [
    "sns.distplot(df[\"TV\"])"
   ]
  },
  {
   "cell_type": "code",
   "execution_count": 35,
   "metadata": {},
   "outputs": [
    {
     "data": {
      "text/plain": [
       "<AxesSubplot:xlabel='radio', ylabel='Density'>"
      ]
     },
     "execution_count": 35,
     "metadata": {},
     "output_type": "execute_result"
    },
    {
     "data": {
      "image/png": "[encoded data removed]",
      "text/plain": [
       "<Figure size 432x288 with 1 Axes>"
      ]
     },
     "metadata": {
      "needs_background": "light"
     },
     "output_type": "display_data"
    }
   ],
   "source": [
    "sns.distplot(df[\"radio\"])"
   ]
  },
  {
   "cell_type": "code",
   "execution_count": 36,
   "metadata": {},
   "outputs": [
    {
     "data": {
      "text/plain": [
       "<AxesSubplot:xlabel='newspaper', ylabel='Density'>"
      ]
     },
     "execution_count": 36,
     "metadata": {},
     "output_type": "execute_result"
    },
    {
     "data": {
      "image/png": "[encoded data removed]",
      "text/plain": [
       "<Figure size 432x288 with 1 Axes>"
      ]
     },
     "metadata": {
      "needs_background": "light"
     },
     "output_type": "display_data"
    }
   ],
   "source": [
    "sns.distplot(df[\"newspaper\"])"
   ]
  },
  {
   "cell_type": "code",
   "execution_count": 37,
   "metadata": {},
   "outputs": [
    {
     "data": {
      "text/plain": [
       "<AxesSubplot:xlabel='sales', ylabel='Density'>"
      ]
     },
     "execution_count": 37,
     "metadata": {},
     "output_type": "execute_result"
    },
    {
     "data": {
      "image/png": "[encoded data removed]",
      "text/plain": [
       "<Figure size 432x288 with 1 Axes>"
      ]
     },
     "metadata": {
      "needs_background": "light"
     },
     "output_type": "display_data"
    }
   ],
   "source": [
    "sns.distplot(df[\"sales\"])"
   ]
  },
  {
   "cell_type": "markdown",
   "metadata": {},
   "source": [
    "By looking at above graps we are still at the same conclusion as we did erlier Newespaper has skewness. sales also have but sales is our target column"
   ]
  },
  {
   "cell_type": "markdown",
   "metadata": {},
   "source": [
    "# Cheking outliers"
   ]
  },
  {
   "cell_type": "code",
   "execution_count": 38,
   "metadata": {},
   "outputs": [
    {
     "data": {
      "text/plain": [
       "<AxesSubplot:>"
      ]
     },
     "execution_count": 38,
     "metadata": {},
     "output_type": "execute_result"
    },
    {
     "data": {
      "image/png": "[encoded data removed]",
      "text/plain": [
       "<Figure size 432x288 with 1 Axes>"
      ]
     },
     "metadata": {
      "needs_background": "light"
     },
     "output_type": "display_data"
    }
   ],
   "source": [
    "df['TV'].plot.box()"
   ]
  },
  {
   "cell_type": "code",
   "execution_count": 39,
   "metadata": {},
   "outputs": [
    {
     "data": {
      "text/plain": [
       "<AxesSubplot:>"
      ]
     },
     "execution_count": 39,
     "metadata": {},
     "output_type": "execute_result"
    },
    {
     "data": {
      "image/png": "[encoded data removed]",
      "text/plain": [
       "<Figure size 432x288 with 1 Axes>"
      ]
     },
     "metadata": {
      "needs_background": "light"
     },
     "output_type": "display_data"
    }
   ],
   "source": [
    "df['newspaper'].plot.box()"
   ]
  },
  {
   "cell_type": "code",
   "execution_count": 40,
   "metadata": {},
   "outputs": [
    {
     "data": {
      "text/plain": [
       "<AxesSubplot:>"
      ]
     },
     "execution_count": 40,
     "metadata": {},
     "output_type": "execute_result"
    },
    {
     "data": {
      "image/png": "[encoded data removed]",
      "text/plain": [
       "<Figure size 432x288 with 1 Axes>"
      ]
     },
     "metadata": {
      "needs_background": "light"
     },
     "output_type": "display_data"
    }
   ],
   "source": [
    "df['radio'].plot.box()"
   ]
  },
  {
   "cell_type": "markdown",
   "metadata": {},
   "source": [
    "We have outliers only in newspaper we will see how much data loss will happen and accordingly will take decision"
   ]
  },
  {
   "cell_type": "code",
   "execution_count": 41,
   "metadata": {},
   "outputs": [],
   "source": [
    "# taking 3 as threshold\n",
    "from scipy.stats import zscore\n",
    "zscore = zscore(df)\n",
    "zabs = np.abs(zscore)\n",
    "\n",
    "z = df[(zabs<3).all(axis=1)] \n"
   ]
  },
  {
   "cell_type": "code",
   "execution_count": 42,
   "metadata": {},
   "outputs": [
    {
     "data": {
      "text/plain": [
       "(198, 4)"
      ]
     },
     "execution_count": 42,
     "metadata": {},
     "output_type": "execute_result"
    }
   ],
   "source": [
    "z.shape"
   ]
  },
  {
   "cell_type": "markdown",
   "metadata": {},
   "source": [
    "It is cleary showing not much data loss but we will got with flow"
   ]
  },
  {
   "cell_type": "code",
   "execution_count": 43,
   "metadata": {},
   "outputs": [
    {
     "data": {
      "text/plain": [
       "(200, 4)"
      ]
     },
     "execution_count": 43,
     "metadata": {},
     "output_type": "execute_result"
    }
   ],
   "source": [
    "df.shape"
   ]
  },
  {
   "cell_type": "code",
   "execution_count": 44,
   "metadata": {},
   "outputs": [
    {
     "data": {
      "text/plain": [
       "1.0"
      ]
     },
     "execution_count": 44,
     "metadata": {},
     "output_type": "execute_result"
    }
   ],
   "source": [
    "# calculating Dataloss in the data set %\n",
    "\n",
    "loss = (200-198)/200*100\n",
    "loss"
   ]
  },
  {
   "cell_type": "code",
   "execution_count": 45,
   "metadata": {},
   "outputs": [],
   "source": [
    "# 1% loss is acceptable"
   ]
  },
  {
   "cell_type": "code",
   "execution_count": 46,
   "metadata": {},
   "outputs": [
    {
     "data": {
      "text/plain": [
       "Int64Index([16, 101], dtype='int64')"
      ]
     },
     "execution_count": 46,
     "metadata": {},
     "output_type": "execute_result"
    }
   ],
   "source": [
    "dropindex = df.index.difference(z.index)\n",
    "dropindex"
   ]
  },
  {
   "cell_type": "code",
   "execution_count": 47,
   "metadata": {},
   "outputs": [
    {
     "data": {
      "text/html": [
       "<div>\n",
       "<style scoped>\n",
       "    .dataframe tbody tr th:only-of-type {\n",
       "        vertical-align: middle;\n",
       "    }\n",
       "\n",
       "    .dataframe tbody tr th {\n",
       "        vertical-align: top;\n",
       "    }\n",
       "\n",
       "    .dataframe thead th {\n",
       "        text-align: right;\n",
       "    }\n",
       "</style>\n",
       "<table border=\"1\" class=\"dataframe\">\n",
       "  <thead>\n",
       "    <tr style=\"text-align: right;\">\n",
       "      <th></th>\n",
       "      <th>TV</th>\n",
       "      <th>radio</th>\n",
       "      <th>newspaper</th>\n",
       "      <th>sales</th>\n",
       "    </tr>\n",
       "  </thead>\n",
       "  <tbody>\n",
       "    <tr>\n",
       "      <th>0</th>\n",
       "      <td>230.1</td>\n",
       "      <td>37.8</td>\n",
       "      <td>69.2</td>\n",
       "      <td>22.1</td>\n",
       "    </tr>\n",
       "    <tr>\n",
       "      <th>1</th>\n",
       "      <td>44.5</td>\n",
       "      <td>39.3</td>\n",
       "      <td>45.1</td>\n",
       "      <td>10.4</td>\n",
       "    </tr>\n",
       "    <tr>\n",
       "      <th>2</th>\n",
       "      <td>17.2</td>\n",
       "      <td>45.9</td>\n",
       "      <td>69.3</td>\n",
       "      <td>9.3</td>\n",
       "    </tr>\n",
       "    <tr>\n",
       "      <th>3</th>\n",
       "      <td>151.5</td>\n",
       "      <td>41.3</td>\n",
       "      <td>58.5</td>\n",
       "      <td>18.5</td>\n",
       "    </tr>\n",
       "    <tr>\n",
       "      <th>4</th>\n",
       "      <td>180.8</td>\n",
       "      <td>10.8</td>\n",
       "      <td>58.4</td>\n",
       "      <td>12.9</td>\n",
       "    </tr>\n",
       "    <tr>\n",
       "      <th>...</th>\n",
       "      <td>...</td>\n",
       "      <td>...</td>\n",
       "      <td>...</td>\n",
       "      <td>...</td>\n",
       "    </tr>\n",
       "    <tr>\n",
       "      <th>195</th>\n",
       "      <td>38.2</td>\n",
       "      <td>3.7</td>\n",
       "      <td>13.8</td>\n",
       "      <td>7.6</td>\n",
       "    </tr>\n",
       "    <tr>\n",
       "      <th>196</th>\n",
       "      <td>94.2</td>\n",
       "      <td>4.9</td>\n",
       "      <td>8.1</td>\n",
       "      <td>9.7</td>\n",
       "    </tr>\n",
       "    <tr>\n",
       "      <th>197</th>\n",
       "      <td>177.0</td>\n",
       "      <td>9.3</td>\n",
       "      <td>6.4</td>\n",
       "      <td>12.8</td>\n",
       "    </tr>\n",
       "    <tr>\n",
       "      <th>198</th>\n",
       "      <td>283.6</td>\n",
       "      <td>42.0</td>\n",
       "      <td>66.2</td>\n",
       "      <td>25.5</td>\n",
       "    </tr>\n",
       "    <tr>\n",
       "      <th>199</th>\n",
       "      <td>232.1</td>\n",
       "      <td>8.6</td>\n",
       "      <td>8.7</td>\n",
       "      <td>13.4</td>\n",
       "    </tr>\n",
       "  </tbody>\n",
       "</table>\n",
       "<p>198 rows × 4 columns</p>\n",
       "</div>"
      ],
      "text/plain": [
       "        TV  radio  newspaper  sales\n",
       "0    230.1   37.8       69.2   22.1\n",
       "1     44.5   39.3       45.1   10.4\n",
       "2     17.2   45.9       69.3    9.3\n",
       "3    151.5   41.3       58.5   18.5\n",
       "4    180.8   10.8       58.4   12.9\n",
       "..     ...    ...        ...    ...\n",
       "195   38.2    3.7       13.8    7.6\n",
       "196   94.2    4.9        8.1    9.7\n",
       "197  177.0    9.3        6.4   12.8\n",
       "198  283.6   42.0       66.2   25.5\n",
       "199  232.1    8.6        8.7   13.4\n",
       "\n",
       "[198 rows x 4 columns]"
      ]
     },
     "execution_count": 47,
     "metadata": {},
     "output_type": "execute_result"
    }
   ],
   "source": [
    "df.drop(dropindex,inplace = True)\n",
    "df"
   ]
  },
  {
   "cell_type": "code",
   "execution_count": 48,
   "metadata": {},
   "outputs": [
    {
     "data": {
      "image/png": "[encoded data removed]",
      "text/plain": [
       "<Figure size 432x288 with 1 Axes>"
      ]
     },
     "metadata": {
      "needs_background": "light"
     },
     "output_type": "display_data"
    },
    {
     "data": {
      "image/png": "[encoded data removed]",
      "text/plain": [
       "<Figure size 432x288 with 1 Axes>"
      ]
     },
     "metadata": {
      "needs_background": "light"
     },
     "output_type": "display_data"
    },
    {
     "data": {
      "image/png": "[encoded data removed]",
      "text/plain": [
       "<Figure size 432x288 with 1 Axes>"
      ]
     },
     "metadata": {
      "needs_background": "light"
     },
     "output_type": "display_data"
    },
    {
     "data": {
      "image/png": "[encoded data removed]",
      "text/plain": [
       "<Figure size 432x288 with 1 Axes>"
      ]
     },
     "metadata": {
      "needs_background": "light"
     },
     "output_type": "display_data"
    }
   ],
   "source": [
    "col2=['TV','radio','newspaper','sales']\n",
    "\n",
    "for i, col2 in enumerate(df[(col2)]):\n",
    "    plt.figure(i)\n",
    "    sns.boxplot(df[col2])"
   ]
  },
  {
   "cell_type": "markdown",
   "metadata": {},
   "source": [
    "As we can see above outliers are removed now"
   ]
  },
  {
   "cell_type": "code",
   "execution_count": 49,
   "metadata": {},
   "outputs": [
    {
     "data": {
      "text/html": [
       "<div>\n",
       "<style scoped>\n",
       "    .dataframe tbody tr th:only-of-type {\n",
       "        vertical-align: middle;\n",
       "    }\n",
       "\n",
       "    .dataframe tbody tr th {\n",
       "        vertical-align: top;\n",
       "    }\n",
       "\n",
       "    .dataframe thead th {\n",
       "        text-align: right;\n",
       "    }\n",
       "</style>\n",
       "<table border=\"1\" class=\"dataframe\">\n",
       "  <thead>\n",
       "    <tr style=\"text-align: right;\">\n",
       "      <th></th>\n",
       "      <th>TV</th>\n",
       "      <th>radio</th>\n",
       "      <th>newspaper</th>\n",
       "    </tr>\n",
       "  </thead>\n",
       "  <tbody>\n",
       "    <tr>\n",
       "      <th>0</th>\n",
       "      <td>230.1</td>\n",
       "      <td>37.8</td>\n",
       "      <td>69.2</td>\n",
       "    </tr>\n",
       "    <tr>\n",
       "      <th>1</th>\n",
       "      <td>44.5</td>\n",
       "      <td>39.3</td>\n",
       "      <td>45.1</td>\n",
       "    </tr>\n",
       "    <tr>\n",
       "      <th>2</th>\n",
       "      <td>17.2</td>\n",
       "      <td>45.9</td>\n",
       "      <td>69.3</td>\n",
       "    </tr>\n",
       "    <tr>\n",
       "      <th>3</th>\n",
       "      <td>151.5</td>\n",
       "      <td>41.3</td>\n",
       "      <td>58.5</td>\n",
       "    </tr>\n",
       "    <tr>\n",
       "      <th>4</th>\n",
       "      <td>180.8</td>\n",
       "      <td>10.8</td>\n",
       "      <td>58.4</td>\n",
       "    </tr>\n",
       "  </tbody>\n",
       "</table>\n",
       "</div>"
      ],
      "text/plain": [
       "      TV  radio  newspaper\n",
       "0  230.1   37.8       69.2\n",
       "1   44.5   39.3       45.1\n",
       "2   17.2   45.9       69.3\n",
       "3  151.5   41.3       58.5\n",
       "4  180.8   10.8       58.4"
      ]
     },
     "execution_count": 49,
     "metadata": {},
     "output_type": "execute_result"
    }
   ],
   "source": [
    "x=df.iloc[:,:-1]\n",
    "y=df.iloc[:,-1]\n",
    "x.head()"
   ]
  },
  {
   "cell_type": "code",
   "execution_count": 50,
   "metadata": {},
   "outputs": [
    {
     "data": {
      "text/plain": [
       "0    22.1\n",
       "1    10.4\n",
       "2     9.3\n",
       "3    18.5\n",
       "4    12.9\n",
       "Name: sales, dtype: float64"
      ]
     },
     "execution_count": 50,
     "metadata": {},
     "output_type": "execute_result"
    }
   ],
   "source": [
    "y.head()"
   ]
  },
  {
   "cell_type": "code",
   "execution_count": 51,
   "metadata": {},
   "outputs": [
    {
     "data": {
      "text/plain": [
       "(198, 3)"
      ]
     },
     "execution_count": 51,
     "metadata": {},
     "output_type": "execute_result"
    }
   ],
   "source": [
    "x.shape"
   ]
  },
  {
   "cell_type": "code",
   "execution_count": 52,
   "metadata": {},
   "outputs": [
    {
     "data": {
      "text/plain": [
       "(198,)"
      ]
     },
     "execution_count": 52,
     "metadata": {},
     "output_type": "execute_result"
    }
   ],
   "source": [
    "y.shape"
   ]
  },
  {
   "cell_type": "markdown",
   "metadata": {},
   "source": [
    "We have defined our x and y data where y is our target variable and then we have checked shape of both if they are equal are not"
   ]
  },
  {
   "cell_type": "code",
   "execution_count": 53,
   "metadata": {},
   "outputs": [
    {
     "data": {
      "text/plain": [
       "array([[ 0.95598306,  0.9691098 ,  1.6041965 ],\n",
       "       [-1.19200349,  1.04623436,  0.83104401],\n",
       "       [-1.6461253 ,  1.37296802,  1.60705249],\n",
       "       [ 0.14293428,  1.1473316 ,  1.28376774],\n",
       "       [ 0.45645241, -0.73502642,  1.28062154],\n",
       "       [-1.8204008 ,  1.51543955,  1.76610727],\n",
       "       [-1.00349358,  0.70309642, -0.10205346],\n",
       "       [-0.20996049, -0.0876566 , -0.84968895],\n",
       "       [-1.82264543, -1.62948287, -2.09866461],\n",
       "       [ 0.652694  , -1.56152179, -0.22649933],\n",
       "       [-0.88482761, -1.19258569, -0.06553382],\n",
       "       [ 0.80322028,  0.19357553, -1.59608414],\n",
       "       [-1.52567125,  0.82725998,  1.50859232],\n",
       "       [-0.48090308, -1.01613619, -1.23269654],\n",
       "       [ 0.69642374,  0.70856268,  0.86367455],\n",
       "       [ 0.60769456,  1.45886692,  1.1026083 ],\n",
       "       [ 1.44702338,  1.06152278,  1.19771741],\n",
       "       [-0.84304109, -0.02834315, -0.39458775],\n",
       "       [ 0.09676151,  0.18741189, -0.346834  ],\n",
       "       [ 0.84017479,  0.41523303,  1.11921444],\n",
       "       [ 1.02746612, -1.2660875 , -0.10205346],\n",
       "       [-1.72466475, -0.3430802 ,  0.99069777],\n",
       "       [ 0.93826742, -0.27204438,  0.0356758 ],\n",
       "       [-0.93674187, -0.59023588, -0.39458775],\n",
       "       [ 1.27285397, -1.44792482, -0.32336998],\n",
       "       [ 0.04802388,  0.50756488, -0.7740548 ],\n",
       "       [ 1.05376032, -0.28612399, -0.13384051],\n",
       "       [ 1.13797152,  0.38008881, -0.13384051],\n",
       "       [-0.82432769, -0.33590351,  0.66980347],\n",
       "       [ 1.55379249,  0.45008922,  0.76092313],\n",
       "       [-0.29552539, -0.23711359,  0.58357284],\n",
       "       [-0.48458608, -1.71704857,  0.21669702],\n",
       "       [ 1.29846636, -0.06117169, -2.2758464 ],\n",
       "       [-0.50304519, -1.7324148 , -1.21299201],\n",
       "       [ 1.53345233, -1.3771472 , -1.10919482],\n",
       "       [ 1.31077419,  1.27109462, -1.4708598 ],\n",
       "       [-0.77006157,  1.53885314,  0.85283827],\n",
       "       [-1.21308859,  0.35649509,  0.44045973],\n",
       "       [ 0.93531131,  0.96392681,  0.30682057],\n",
       "       [ 0.68018031,  0.08742886,  0.28905461],\n",
       "       [ 0.4165774 ,  0.73579933,  0.58755182],\n",
       "       [ 1.56025605,  0.41523303, -1.93614969],\n",
       "       [ 0.72477076, -0.94246393,  0.04555612],\n",
       "       [-1.50299171,  0.29691633,  0.76465678],\n",
       "       [ 0.39655706,  0.10007132,  0.2845934 ],\n",
       "       [-0.5776425 , -0.81067203,  0.46554742],\n",
       "       [ 1.05181524,  1.15733673, -0.38254334],\n",
       "       [ 0.92742341, -0.35027362,  1.00104316],\n",
       "       [-0.87399682, -0.66162053,  0.51093113],\n",
       "       [ 0.652694  , -1.49718987,  0.41936802],\n",
       "       [-0.44544938, -0.83642883, -1.65023317],\n",
       "       [ 0.82021967,  1.16732335,  0.62310406],\n",
       "       [ 0.47526481,  1.38737344,  1.29005095],\n",
       "       [ 1.27095405,  0.47892195, -0.54515187],\n",
       "       [ 0.6435106 ,  1.53885314,  1.33059751],\n",
       "       [-1.85241088,  0.43850198,  0.6928619 ],\n",
       "       [-0.02694246, -0.11434473, -0.50002298],\n",
       "       [ 0.7640894 ,  1.54819296,  0.54749686],\n",
       "       [ 0.76308359,  0.51896989, -1.03801781],\n",
       "       [-1.06021399, -1.64357954, -0.21538949],\n",
       "       [ 1.25764412,  1.21698291,  1.16198054],\n",
       "       [ 1.04597746, -0.37195568,  0.08950799],\n",
       "       [-0.41751811,  0.52466135, -1.11833294],\n",
       "       [-0.08464536,  1.22192414,  0.16568658],\n",
       "       [-0.84572231, -0.8624742 , -2.12148202],\n",
       "       [-1.39528628,  0.23035564, -1.86501   ],\n",
       "       [ 0.00785902, -0.44537697, -0.96167639],\n",
       "       [ 1.02746612,  0.40355071, -0.89675177],\n",
       "       [ 0.8242145 ,  1.27598779,  0.08466485],\n",
       "       [ 0.64555228,  0.58117899,  0.58755182],\n",
       "       [-0.33228945, -0.46028254,  0.29350789],\n",
       "       [-1.47377148,  0.71402259, -0.33506848],\n",
       "       [-0.10400761, -1.202897  ,  0.27564704],\n",
       "       [ 0.79019725,  0.23035564, -0.73744518],\n",
       "       [-1.65184774,  1.26619715,  2.13937255],\n",
       "       [-1.46187563, -1.70192244, -0.25453031],\n",
       "       [-0.20647326,  0.46164538, -0.65947105],\n",
       "       [-1.89822804,  0.54169198, -1.02934918],\n",
       "       [-0.25902053, -1.00678392, -0.12319395],\n",
       "       [-0.74778651,  0.35649509, -0.16609367],\n",
       "       [ 1.05084254, -1.3771472 ,  0.51501874],\n",
       "       [-0.76218508, -0.04143812,  0.32885333],\n",
       "       [-0.85377796,  1.30525722,  0.46138274],\n",
       "       [ 0.79119975,  1.23179329,  0.38526098],\n",
       "       [ 0.58509675, -0.16835339,  1.50271112],\n",
       "       [-0.74909326,  0.40355071, -0.53863938],\n",
       "       [-0.32158879,  1.11216604,  1.42831665],\n",
       "       [-0.59523084,  0.28489586,  1.72217946],\n",
       "       [-0.33228945,  1.4636021 ,  1.05224719],\n",
       "       [-0.04837336, -1.28768913, -1.03801781],\n",
       "       [-1.44333425, -1.71704857,  0.35069626],\n",
       "       [ 0.8331959 ,  0.74122791,  1.29945293],\n",
       "       [ 1.15818339,  0.90131402,  1.69166052],\n",
       "       [-0.36093577, -0.4827855 , -0.90472726],\n",
       "       [ 0.2709304 ,  0.63699688,  1.1026083 ],\n",
       "       [ 0.63022667, -1.44792482, -1.36815587],\n",
       "       [ 0.49923329,  0.00418624, -0.18240095],\n",
       "       [ 1.52419364,  1.19717332,  1.04546953],\n",
       "       [-0.0382122 ,  1.16732335,  0.86006693],\n",
       "       [ 0.87994389, -1.35429375,  0.99759864],\n",
       "       [ 1.43581778, -0.79365568, -0.21538949],\n",
       "       [ 0.53038105, -0.25104051, -0.41889554],\n",
       "       [ 1.03526502,  0.78443582, -1.43568966],\n",
       "       [-0.00783277,  1.39695704,  1.29945293],\n",
       "       [-1.50472569, -0.71852874,  0.20289058],\n",
       "       [-0.56887482, -1.92277996, -0.11788987],\n",
       "       [-1.72669682, -1.90334954,  0.00577961],\n",
       "       [ 1.20134779,  0.36830859, -1.41277956],\n",
       "       [ 0.91360226, -0.96064272,  1.22025052],\n",
       "       [ 1.06930594,  0.97946003, -0.11788987],\n",
       "       [ 0.40288531, -0.37921745, -1.83137048],\n",
       "       [ 0.75201155, -0.02181365, -0.9207956 ],\n",
       "       [-0.72433929,  1.41607663,  0.41512911],\n",
       "       [-0.76480878,  0.82192754,  1.09594084],\n",
       "       [ 0.00673953, -0.46028254,  0.00577961],\n",
       "       [-0.74778651, -1.83055994, -0.61831443],\n",
       "       [-0.14637764,  0.92227141,  1.87892616],\n",
       "       [-1.60487761, -0.33590351, -0.16609367],\n",
       "       [ 0.03020546,  0.36240602,  0.87087647],\n",
       "       [-1.61600701,  0.04924266,  1.01820721],\n",
       "       [ 0.89579959, -1.58822992, -0.56482448],\n",
       "       [-0.17634363,  0.8005392 , -0.78891695],\n",
       "       [ 0.95008184,  0.67566908,  1.7442111 ],\n",
       "       [-0.60910057, -0.65359273,  0.02077604],\n",
       "       [-1.84082856,  1.02577993,  1.02504572],\n",
       "       [-0.69844865, -1.98495808, -1.04673537],\n",
       "       [ 0.8590884 ,  1.52012963, -1.70718676],\n",
       "       [-0.97412104, -0.63761079,  0.75718457],\n",
       "       [-2.03323356,  1.06152278, -1.09108448],\n",
       "       [ 1.2946762 , -1.52253007,  0.7534411 ],\n",
       "       [-1.82715302,  0.38596655, -1.88228781],\n",
       "       [ 0.85411524,  0.74122791,  0.83104401],\n",
       "       [-1.30867028,  1.0103861 ,  1.49976669],\n",
       "       [-1.13560137,  1.42561279, -1.10919482],\n",
       "       [-1.49434751,  1.03090107, -1.03801781],\n",
       "       [ 1.37490294,  0.48466558,  1.32128542],\n",
       "       [-1.21460127,  0.30890141, -0.2658475 ],\n",
       "       [ 0.49923329,  1.27598779, -1.95484304],\n",
       "       [-0.78718324, -0.2650278 , -0.75199725],\n",
       "       [ 0.59023843,  0.84322253,  1.78244184],\n",
       "       [ 0.86107685,  0.72492349,  0.55555544],\n",
       "       [-0.39456576, -1.202897  ,  0.41088327],\n",
       "       [-0.49688394, -0.42315979,  0.59549238],\n",
       "       [ 0.01904252, -1.65786243, -1.06432036],\n",
       "       [ 1.05376032, -1.04445327, -1.09108448],\n",
       "       [ 1.08385578,  1.52012963,  0.80172759],\n",
       "       [-1.29143203,  1.09702388, -0.82664429],\n",
       "       [-1.1890052 ,  0.30291327, -0.26018131],\n",
       "       [ 1.44048829, -0.49032576,  0.51910011],\n",
       "       [-0.20066619, -0.94246393,  0.95944652],\n",
       "       [ 0.63022667,  0.15022331, -0.65947105],\n",
       "       [ 0.35634693,  1.06660903,  0.54749686],\n",
       "       [ 0.52934487,  0.01065705, -1.02072873],\n",
       "       [-1.93163495, -0.66967326, -1.39027462],\n",
       "       [-0.52529469,  1.25638925,  1.02162839],\n",
       "       [ 0.12428563, -1.74803521, -0.06036496],\n",
       "       [-1.75555556,  0.92227141,  0.83468776],\n",
       "       [-0.07782712, -0.16835339,  0.41936802],\n",
       "       [ 0.36906953, -0.18883181,  0.24861364],\n",
       "       [-0.62808655,  0.86442562,  0.98031676],\n",
       "       [ 0.5355598 , -0.18883181,  0.00577961],\n",
       "       [ 0.2730788 ,  0.91704026, -1.21299201],\n",
       "       [-0.24495734, -0.43054692, -1.42418272],\n",
       "       [ 0.99913782, -1.46007371,  2.02414625],\n",
       "       [-1.63286723,  0.95873855, -0.20433701],\n",
       "       [ 0.72376009, -1.25539136, -0.32921092],\n",
       "       [ 0.81022423,  0.16886223,  1.25534066],\n",
       "       [ 1.47405264, -0.75163452, -1.31443661],\n",
       "       [-1.11073781, -0.66967326, -0.38855655],\n",
       "       [ 0.28381064, -0.00229617,  0.91372099],\n",
       "       [-1.60118681, -0.05458158, -0.47470116],\n",
       "       [ 0.32550506, -1.06355551, -0.75931882],\n",
       "       [ 0.87994389, -1.46007371, -0.73744518],\n",
       "       [ 1.40493806,  1.51543955,  0.70812926],\n",
       "       [ 1.13411664,  0.55865764, -0.27722588],\n",
       "       [ 0.34466429, -0.99747386,  0.44465771],\n",
       "       [ 1.40306351, -1.60181548, -0.09155822],\n",
       "       [ 0.29559622, -0.80214864, -0.43732278],\n",
       "       [ 0.19855946, -1.56152179, -1.12752759],\n",
       "       [ 0.8411713 , -1.23420066,  0.09434122],\n",
       "       [-1.02181379, -1.202897  ,  0.20289058],\n",
       "       [ 1.50472337,  1.23179329,  1.67770049],\n",
       "       [ 1.18602318,  0.02356422,  0.21669702],\n",
       "       [ 0.70554619,  1.33437513, -0.31754553],\n",
       "       [ 0.01009737, -1.62948287,  0.05539471],\n",
       "       [ 0.56346396,  0.47317073, -0.40063711],\n",
       "       [ 1.48986416, -0.49032576, -1.63644784],\n",
       "       [-1.61787038, -0.62965614, -0.1073197 ],\n",
       "       [-1.26812741,  1.13730782, -1.3791681 ],\n",
       "       [-0.75956316, -0.73502642, -1.3572358 ],\n",
       "       [-1.6461253 , -1.3771472 ,  0.28905461],\n",
       "       [ 0.30843016,  1.18226883, -1.65023317],\n",
       "       [ 0.12318696,  0.85383548, -1.3572358 ],\n",
       "       [-1.28831146, -1.42394128, -0.68743455],\n",
       "       [-0.52157887, -1.28768913, -1.14609038],\n",
       "       [ 0.4165774 , -0.8624742 , -1.31443661],\n",
       "       [ 1.4675349 ,  1.18226883,  1.51739504],\n",
       "       [ 0.97562509, -0.92443675, -1.09108448]])"
      ]
     },
     "execution_count": 53,
     "metadata": {},
     "output_type": "execute_result"
    }
   ],
   "source": [
    "from sklearn.preprocessing import power_transform\n",
    "x=power_transform(x,method='yeo-johnson')\n",
    "x"
   ]
  },
  {
   "cell_type": "code",
   "execution_count": 54,
   "metadata": {},
   "outputs": [
    {
     "data": {
      "image/png": "[encoded data removed]",
      "text/plain": [
       "<Figure size 1440x1512 with 3 Axes>"
      ]
     },
     "metadata": {},
     "output_type": "display_data"
    }
   ],
   "source": [
    "col1=['TV','radio','newspaper']\n",
    "\n",
    "new_x=pd.DataFrame(data=x,columns=col1)\n",
    "\n",
    "plt.figure(figsize=(20,21),facecolor='white')\n",
    "\n",
    "plotn=1\n",
    "\n",
    "for col in new_x:\n",
    "    if plotn<=4:\n",
    "        plt.subplot(5,5,plotn)\n",
    "        sns.distplot(new_x[col])\n",
    "        plt.xlabel(col,fontsize=15)\n",
    "        \n",
    "    plotn+=1   \n",
    "    \n",
    "plt.show() "
   ]
  },
  {
   "cell_type": "markdown",
   "metadata": {},
   "source": [
    "Checked skewness after removing it and we can see that skewness removed now"
   ]
  },
  {
   "cell_type": "code",
   "execution_count": 55,
   "metadata": {},
   "outputs": [
    {
     "data": {
      "text/plain": [
       "array([[ 0.95598306,  0.9691098 ,  1.6041965 ],\n",
       "       [-1.19200349,  1.04623436,  0.83104401],\n",
       "       [-1.6461253 ,  1.37296802,  1.60705249],\n",
       "       [ 0.14293428,  1.1473316 ,  1.28376774],\n",
       "       [ 0.45645241, -0.73502642,  1.28062154],\n",
       "       [-1.8204008 ,  1.51543955,  1.76610727],\n",
       "       [-1.00349358,  0.70309642, -0.10205346],\n",
       "       [-0.20996049, -0.0876566 , -0.84968895],\n",
       "       [-1.82264543, -1.62948287, -2.09866461],\n",
       "       [ 0.652694  , -1.56152179, -0.22649933],\n",
       "       [-0.88482761, -1.19258569, -0.06553382],\n",
       "       [ 0.80322028,  0.19357553, -1.59608414],\n",
       "       [-1.52567125,  0.82725998,  1.50859232],\n",
       "       [-0.48090308, -1.01613619, -1.23269654],\n",
       "       [ 0.69642374,  0.70856268,  0.86367455],\n",
       "       [ 0.60769456,  1.45886692,  1.1026083 ],\n",
       "       [ 1.44702338,  1.06152278,  1.19771741],\n",
       "       [-0.84304109, -0.02834315, -0.39458775],\n",
       "       [ 0.09676151,  0.18741189, -0.346834  ],\n",
       "       [ 0.84017479,  0.41523303,  1.11921444],\n",
       "       [ 1.02746612, -1.2660875 , -0.10205346],\n",
       "       [-1.72466475, -0.3430802 ,  0.99069777],\n",
       "       [ 0.93826742, -0.27204438,  0.0356758 ],\n",
       "       [-0.93674187, -0.59023588, -0.39458775],\n",
       "       [ 1.27285397, -1.44792482, -0.32336998],\n",
       "       [ 0.04802388,  0.50756488, -0.7740548 ],\n",
       "       [ 1.05376032, -0.28612399, -0.13384051],\n",
       "       [ 1.13797152,  0.38008881, -0.13384051],\n",
       "       [-0.82432769, -0.33590351,  0.66980347],\n",
       "       [ 1.55379249,  0.45008922,  0.76092313],\n",
       "       [-0.29552539, -0.23711359,  0.58357284],\n",
       "       [-0.48458608, -1.71704857,  0.21669702],\n",
       "       [ 1.29846636, -0.06117169, -2.2758464 ],\n",
       "       [-0.50304519, -1.7324148 , -1.21299201],\n",
       "       [ 1.53345233, -1.3771472 , -1.10919482],\n",
       "       [ 1.31077419,  1.27109462, -1.4708598 ],\n",
       "       [-0.77006157,  1.53885314,  0.85283827],\n",
       "       [-1.21308859,  0.35649509,  0.44045973],\n",
       "       [ 0.93531131,  0.96392681,  0.30682057],\n",
       "       [ 0.68018031,  0.08742886,  0.28905461],\n",
       "       [ 0.4165774 ,  0.73579933,  0.58755182],\n",
       "       [ 1.56025605,  0.41523303, -1.93614969],\n",
       "       [ 0.72477076, -0.94246393,  0.04555612],\n",
       "       [-1.50299171,  0.29691633,  0.76465678],\n",
       "       [ 0.39655706,  0.10007132,  0.2845934 ],\n",
       "       [-0.5776425 , -0.81067203,  0.46554742],\n",
       "       [ 1.05181524,  1.15733673, -0.38254334],\n",
       "       [ 0.92742341, -0.35027362,  1.00104316],\n",
       "       [-0.87399682, -0.66162053,  0.51093113],\n",
       "       [ 0.652694  , -1.49718987,  0.41936802],\n",
       "       [-0.44544938, -0.83642883, -1.65023317],\n",
       "       [ 0.82021967,  1.16732335,  0.62310406],\n",
       "       [ 0.47526481,  1.38737344,  1.29005095],\n",
       "       [ 1.27095405,  0.47892195, -0.54515187],\n",
       "       [ 0.6435106 ,  1.53885314,  1.33059751],\n",
       "       [-1.85241088,  0.43850198,  0.6928619 ],\n",
       "       [-0.02694246, -0.11434473, -0.50002298],\n",
       "       [ 0.7640894 ,  1.54819296,  0.54749686],\n",
       "       [ 0.76308359,  0.51896989, -1.03801781],\n",
       "       [-1.06021399, -1.64357954, -0.21538949],\n",
       "       [ 1.25764412,  1.21698291,  1.16198054],\n",
       "       [ 1.04597746, -0.37195568,  0.08950799],\n",
       "       [-0.41751811,  0.52466135, -1.11833294],\n",
       "       [-0.08464536,  1.22192414,  0.16568658],\n",
       "       [-0.84572231, -0.8624742 , -2.12148202],\n",
       "       [-1.39528628,  0.23035564, -1.86501   ],\n",
       "       [ 0.00785902, -0.44537697, -0.96167639],\n",
       "       [ 1.02746612,  0.40355071, -0.89675177],\n",
       "       [ 0.8242145 ,  1.27598779,  0.08466485],\n",
       "       [ 0.64555228,  0.58117899,  0.58755182],\n",
       "       [-0.33228945, -0.46028254,  0.29350789],\n",
       "       [-1.47377148,  0.71402259, -0.33506848],\n",
       "       [-0.10400761, -1.202897  ,  0.27564704],\n",
       "       [ 0.79019725,  0.23035564, -0.73744518],\n",
       "       [-1.65184774,  1.26619715,  2.13937255],\n",
       "       [-1.46187563, -1.70192244, -0.25453031],\n",
       "       [-0.20647326,  0.46164538, -0.65947105],\n",
       "       [-1.89822804,  0.54169198, -1.02934918],\n",
       "       [-0.25902053, -1.00678392, -0.12319395],\n",
       "       [-0.74778651,  0.35649509, -0.16609367],\n",
       "       [ 1.05084254, -1.3771472 ,  0.51501874],\n",
       "       [-0.76218508, -0.04143812,  0.32885333],\n",
       "       [-0.85377796,  1.30525722,  0.46138274],\n",
       "       [ 0.79119975,  1.23179329,  0.38526098],\n",
       "       [ 0.58509675, -0.16835339,  1.50271112],\n",
       "       [-0.74909326,  0.40355071, -0.53863938],\n",
       "       [-0.32158879,  1.11216604,  1.42831665],\n",
       "       [-0.59523084,  0.28489586,  1.72217946],\n",
       "       [-0.33228945,  1.4636021 ,  1.05224719],\n",
       "       [-0.04837336, -1.28768913, -1.03801781],\n",
       "       [-1.44333425, -1.71704857,  0.35069626],\n",
       "       [ 0.8331959 ,  0.74122791,  1.29945293],\n",
       "       [ 1.15818339,  0.90131402,  1.69166052],\n",
       "       [-0.36093577, -0.4827855 , -0.90472726],\n",
       "       [ 0.2709304 ,  0.63699688,  1.1026083 ],\n",
       "       [ 0.63022667, -1.44792482, -1.36815587],\n",
       "       [ 0.49923329,  0.00418624, -0.18240095],\n",
       "       [ 1.52419364,  1.19717332,  1.04546953],\n",
       "       [-0.0382122 ,  1.16732335,  0.86006693],\n",
       "       [ 0.87994389, -1.35429375,  0.99759864],\n",
       "       [ 1.43581778, -0.79365568, -0.21538949],\n",
       "       [ 0.53038105, -0.25104051, -0.41889554],\n",
       "       [ 1.03526502,  0.78443582, -1.43568966],\n",
       "       [-0.00783277,  1.39695704,  1.29945293],\n",
       "       [-1.50472569, -0.71852874,  0.20289058],\n",
       "       [-0.56887482, -1.92277996, -0.11788987],\n",
       "       [-1.72669682, -1.90334954,  0.00577961],\n",
       "       [ 1.20134779,  0.36830859, -1.41277956],\n",
       "       [ 0.91360226, -0.96064272,  1.22025052],\n",
       "       [ 1.06930594,  0.97946003, -0.11788987],\n",
       "       [ 0.40288531, -0.37921745, -1.83137048],\n",
       "       [ 0.75201155, -0.02181365, -0.9207956 ],\n",
       "       [-0.72433929,  1.41607663,  0.41512911],\n",
       "       [-0.76480878,  0.82192754,  1.09594084],\n",
       "       [ 0.00673953, -0.46028254,  0.00577961],\n",
       "       [-0.74778651, -1.83055994, -0.61831443],\n",
       "       [-0.14637764,  0.92227141,  1.87892616],\n",
       "       [-1.60487761, -0.33590351, -0.16609367],\n",
       "       [ 0.03020546,  0.36240602,  0.87087647],\n",
       "       [-1.61600701,  0.04924266,  1.01820721],\n",
       "       [ 0.89579959, -1.58822992, -0.56482448],\n",
       "       [-0.17634363,  0.8005392 , -0.78891695],\n",
       "       [ 0.95008184,  0.67566908,  1.7442111 ],\n",
       "       [-0.60910057, -0.65359273,  0.02077604],\n",
       "       [-1.84082856,  1.02577993,  1.02504572],\n",
       "       [-0.69844865, -1.98495808, -1.04673537],\n",
       "       [ 0.8590884 ,  1.52012963, -1.70718676],\n",
       "       [-0.97412104, -0.63761079,  0.75718457],\n",
       "       [-2.03323356,  1.06152278, -1.09108448],\n",
       "       [ 1.2946762 , -1.52253007,  0.7534411 ],\n",
       "       [-1.82715302,  0.38596655, -1.88228781],\n",
       "       [ 0.85411524,  0.74122791,  0.83104401],\n",
       "       [-1.30867028,  1.0103861 ,  1.49976669],\n",
       "       [-1.13560137,  1.42561279, -1.10919482],\n",
       "       [-1.49434751,  1.03090107, -1.03801781],\n",
       "       [ 1.37490294,  0.48466558,  1.32128542],\n",
       "       [-1.21460127,  0.30890141, -0.2658475 ],\n",
       "       [ 0.49923329,  1.27598779, -1.95484304],\n",
       "       [-0.78718324, -0.2650278 , -0.75199725],\n",
       "       [ 0.59023843,  0.84322253,  1.78244184],\n",
       "       [ 0.86107685,  0.72492349,  0.55555544],\n",
       "       [-0.39456576, -1.202897  ,  0.41088327],\n",
       "       [-0.49688394, -0.42315979,  0.59549238],\n",
       "       [ 0.01904252, -1.65786243, -1.06432036],\n",
       "       [ 1.05376032, -1.04445327, -1.09108448],\n",
       "       [ 1.08385578,  1.52012963,  0.80172759],\n",
       "       [-1.29143203,  1.09702388, -0.82664429],\n",
       "       [-1.1890052 ,  0.30291327, -0.26018131],\n",
       "       [ 1.44048829, -0.49032576,  0.51910011],\n",
       "       [-0.20066619, -0.94246393,  0.95944652],\n",
       "       [ 0.63022667,  0.15022331, -0.65947105],\n",
       "       [ 0.35634693,  1.06660903,  0.54749686],\n",
       "       [ 0.52934487,  0.01065705, -1.02072873],\n",
       "       [-1.93163495, -0.66967326, -1.39027462],\n",
       "       [-0.52529469,  1.25638925,  1.02162839],\n",
       "       [ 0.12428563, -1.74803521, -0.06036496],\n",
       "       [-1.75555556,  0.92227141,  0.83468776],\n",
       "       [-0.07782712, -0.16835339,  0.41936802],\n",
       "       [ 0.36906953, -0.18883181,  0.24861364],\n",
       "       [-0.62808655,  0.86442562,  0.98031676],\n",
       "       [ 0.5355598 , -0.18883181,  0.00577961],\n",
       "       [ 0.2730788 ,  0.91704026, -1.21299201],\n",
       "       [-0.24495734, -0.43054692, -1.42418272],\n",
       "       [ 0.99913782, -1.46007371,  2.02414625],\n",
       "       [-1.63286723,  0.95873855, -0.20433701],\n",
       "       [ 0.72376009, -1.25539136, -0.32921092],\n",
       "       [ 0.81022423,  0.16886223,  1.25534066],\n",
       "       [ 1.47405264, -0.75163452, -1.31443661],\n",
       "       [-1.11073781, -0.66967326, -0.38855655],\n",
       "       [ 0.28381064, -0.00229617,  0.91372099],\n",
       "       [-1.60118681, -0.05458158, -0.47470116],\n",
       "       [ 0.32550506, -1.06355551, -0.75931882],\n",
       "       [ 0.87994389, -1.46007371, -0.73744518],\n",
       "       [ 1.40493806,  1.51543955,  0.70812926],\n",
       "       [ 1.13411664,  0.55865764, -0.27722588],\n",
       "       [ 0.34466429, -0.99747386,  0.44465771],\n",
       "       [ 1.40306351, -1.60181548, -0.09155822],\n",
       "       [ 0.29559622, -0.80214864, -0.43732278],\n",
       "       [ 0.19855946, -1.56152179, -1.12752759],\n",
       "       [ 0.8411713 , -1.23420066,  0.09434122],\n",
       "       [-1.02181379, -1.202897  ,  0.20289058],\n",
       "       [ 1.50472337,  1.23179329,  1.67770049],\n",
       "       [ 1.18602318,  0.02356422,  0.21669702],\n",
       "       [ 0.70554619,  1.33437513, -0.31754553],\n",
       "       [ 0.01009737, -1.62948287,  0.05539471],\n",
       "       [ 0.56346396,  0.47317073, -0.40063711],\n",
       "       [ 1.48986416, -0.49032576, -1.63644784],\n",
       "       [-1.61787038, -0.62965614, -0.1073197 ],\n",
       "       [-1.26812741,  1.13730782, -1.3791681 ],\n",
       "       [-0.75956316, -0.73502642, -1.3572358 ],\n",
       "       [-1.6461253 , -1.3771472 ,  0.28905461],\n",
       "       [ 0.30843016,  1.18226883, -1.65023317],\n",
       "       [ 0.12318696,  0.85383548, -1.3572358 ],\n",
       "       [-1.28831146, -1.42394128, -0.68743455],\n",
       "       [-0.52157887, -1.28768913, -1.14609038],\n",
       "       [ 0.4165774 , -0.8624742 , -1.31443661],\n",
       "       [ 1.4675349 ,  1.18226883,  1.51739504],\n",
       "       [ 0.97562509, -0.92443675, -1.09108448]])"
      ]
     },
     "execution_count": 55,
     "metadata": {},
     "output_type": "execute_result"
    }
   ],
   "source": [
    "from sklearn.preprocessing import StandardScaler\n",
    "\n",
    "stc=StandardScaler()\n",
    "x=stc.fit_transform(x)\n",
    "\n",
    "x"
   ]
  },
  {
   "cell_type": "markdown",
   "metadata": {},
   "source": [
    "data was looking good however still I preferred to scalled data so that there will no chnaces of any bias. so I have scaled data above with standered scaller"
   ]
  },
  {
   "cell_type": "code",
   "execution_count": 68,
   "metadata": {},
   "outputs": [],
   "source": [
    "#Lets import some neccessary modules now\n",
    "\n",
    "import sklearn\n",
    "from sklearn.tree import DecisionTreeRegressor\n",
    "from sklearn.neighbors import KNeighborsRegressor\n",
    "from sklearn.ensemble import AdaBoostRegressor\n",
    "from sklearn.ensemble import ExtraTreesRegressor\n",
    "from sklearn.ensemble import GradientBoostingRegressor\n",
    "from sklearn.ensemble import RandomForestClassifier\n",
    "from sklearn.svm import SVC\n",
    "from sklearn.linear_model import SGDClassifier\n",
    "from sklearn.linear_model import LinearRegression, Ridge, Lasso\n",
    "from sklearn.ensemble import RandomForestRegressor\n",
    "from sklearn.svm import SVR\n",
    "\n",
    "#metrics\n",
    "from sklearn.metrics import confusion_matrix, classification_report\n",
    "from sklearn.metrics import accuracy_score\n",
    "from sklearn.metrics import r2_score,mean_squared_error\n",
    "from sklearn.model_selection import train_test_split, GridSearchCV, cross_val_score"
   ]
  },
  {
   "cell_type": "markdown",
   "metadata": {},
   "source": [
    "# Finding best random state"
   ]
  },
  {
   "cell_type": "code",
   "execution_count": 69,
   "metadata": {},
   "outputs": [
    {
     "name": "stdout",
     "output_type": "stream",
     "text": [
      "Best Accuracy is: 0.9894370942380599 on Random State: 81\n"
     ]
    }
   ],
   "source": [
    "maxAcc = 0\n",
    "maxRS = 0\n",
    "\n",
    "for i in range(1,100):\n",
    "    x_train,x_test,y_train,y_test = train_test_split(x,y,test_size=.20, random_state=i)\n",
    "    modRF = RandomForestRegressor()\n",
    "    modRF.fit(x_train,y_train)\n",
    "    pred = modRF.predict(x_test)\n",
    "    acc = r2_score(y_test,pred)\n",
    "    if acc>maxAcc:\n",
    "        maxAcc = acc\n",
    "        maxRs=i\n",
    "print(f\"Best Accuracy is: {maxAcc} on Random State: {maxRs}\")"
   ]
  },
  {
   "cell_type": "markdown",
   "metadata": {},
   "source": [
    "We found out best random state which is 81 where we are getting almost 98% accuracy score.\n",
    "\n",
    "Lets go further to test multiple module to find out best one"
   ]
  },
  {
   "cell_type": "code",
   "execution_count": 70,
   "metadata": {},
   "outputs": [
    {
     "name": "stdout",
     "output_type": "stream",
     "text": [
      "performance matrix of DecisionTreeRegressor() is:\n",
      "RMSE Score is: 0.8600000000000001\n",
      "R2 Score is: 97.23462887754873\n",
      "Cross Validation Score: 95.10449532930275\n",
      "R2 Score - Cross Validation Score is 2.130133548245979\n",
      "*****************************************************************\n",
      "performance matrix of KNeighborsRegressor() is:\n",
      "RMSE Score is: 1.4751499999999997\n",
      "R2 Score is: 95.25658463804186\n",
      "Cross Validation Score: 94.3486345366393\n",
      "R2 Score - Cross Validation Score is 0.9079501014025624\n",
      "*****************************************************************\n",
      "performance matrix of AdaBoostRegressor() is:\n",
      "RMSE Score is: 0.8286239847118505\n",
      "R2 Score is: 97.33551995500854\n",
      "Cross Validation Score: 95.66282735040262\n",
      "R2 Score - Cross Validation Score is 1.6726926046059134\n",
      "*****************************************************************\n",
      "performance matrix of GradientBoostingRegressor() is:\n",
      "RMSE Score is: 0.38453184877173424\n",
      "R2 Score is: 98.76351945319051\n",
      "Cross Validation Score: 97.82358237459476\n",
      "R2 Score - Cross Validation Score is 0.9399370785957473\n",
      "*****************************************************************\n",
      "performance matrix of LinearRegression() is:\n",
      "RMSE Score is: 2.5259834284175384\n",
      "R2 Score is: 91.87757950146938\n",
      "Cross Validation Score: 89.58270968555071\n",
      "R2 Score - Cross Validation Score is 2.2948698159186733\n",
      "*****************************************************************\n",
      "performance matrix of RandomForestRegressor() is:\n",
      "RMSE Score is: 0.34927754999999927\n",
      "R2 Score is: 98.87688133663892\n",
      "Cross Validation Score: 97.5848554123428\n",
      "R2 Score - Cross Validation Score is 1.2920259242961123\n",
      "*****************************************************************\n",
      "performance matrix of SVR() is:\n",
      "RMSE Score is: 2.464689743060511\n",
      "R2 Score is: 92.07467227760303\n",
      "Cross Validation Score: 92.02978192122427\n",
      "R2 Score - Cross Validation Score is 0.044890356378758156\n",
      "*****************************************************************\n"
     ]
    }
   ],
   "source": [
    "dt=DecisionTreeRegressor()\n",
    "kn=KNeighborsRegressor()\n",
    "adb=AdaBoostRegressor()\n",
    "gdb=GradientBoostingRegressor()\n",
    "lnr=LinearRegression()\n",
    "rfr=RandomForestRegressor()\n",
    "sv=SVR()\n",
    "\n",
    "model=[dt,kn,adb,gdb,lnr,rfr,sv]\n",
    "\n",
    "for i in model:\n",
    "    x_train,x_test,y_train,y_test = train_test_split(x,y,test_size=.20, random_state=81)\n",
    "    i.fit(x_train,y_train)\n",
    "    predi=i.predict(x_test)\n",
    "    print('performance matrix of',i,'is:')\n",
    "    print(\"RMSE Score is:\",mean_squared_error(y_test,predi))\n",
    "    r2 = r2_score(y_test, predi)*100\n",
    "    print(\"R2 Score is:\", r2)\n",
    "    cv_score = (cross_val_score(i, x, y, cv=5).mean())*100\n",
    "    print(\"Cross Validation Score:\", cv_score)\n",
    "    result = r2 - cv_score\n",
    "    print(\"R2 Score - Cross Validation Score is\", result)\n",
    "    print(\"*****************************************************************\")"
   ]
  },
  {
   "cell_type": "raw",
   "metadata": {},
   "source": [
    "After looking at the above matrices for all modules, I was little bit confuse because almost all models are working well and hyperparameter tunning not even required in this case.\n",
    "Then I decided to save Random Forest regressor Because of the following observation.\n",
    "   1.\tMSE Score is lowest in all module 0.34\n",
    "   2.\tR2 score is highest in all modules almost 99 %\n",
    "   3.\tDifference between r2 score and cross validation is also acceptable.\n"
   ]
  },
  {
   "cell_type": "code",
   "execution_count": 78,
   "metadata": {},
   "outputs": [
    {
     "data": {
      "image/png": "[encoded data removed]",
      "text/plain": [
       "<Figure size 576x432 with 1 Axes>"
      ]
     },
     "metadata": {
      "needs_background": "light"
     },
     "output_type": "display_data"
    }
   ],
   "source": [
    "predlr=rfr.predict(x_test)\n",
    "\n",
    "plt.figure(figsize=(8,6))\n",
    "plt.scatter(x=y_test,y=predlr,color='r')\n",
    "plt.plot(y_test,y_test,color='b')\n",
    "plt.xlabel('Actual Sales',fontsize=14)\n",
    "plt.ylabel('Predicted Sales',fontsize=14)\n",
    "plt.title('Randomforest regressor ',fontsize=18)\n",
    "plt.show()"
   ]
  },
  {
   "cell_type": "code",
   "execution_count": 84,
   "metadata": {},
   "outputs": [
    {
     "data": {
      "text/plain": [
       "['Advertise FinalModel.pkl']"
      ]
     },
     "execution_count": 84,
     "metadata": {},
     "output_type": "execute_result"
    }
   ],
   "source": [
    "import joblib\n",
    "filename = \"Advertise FinalModel.pkl\"\n",
    "joblib.dump(rfr, filename)"
   ]
  },
  {
   "cell_type": "code",
   "execution_count": 85,
   "metadata": {},
   "outputs": [
    {
     "name": "stdout",
     "output_type": "stream",
     "text": [
      "[14.655  7.412 23.129  7.289  6.428 22.331 11.106 15.405  9.977 12.671\n",
      " 20.039 22.101  9.756 25.128 10.511  9.345 24.678 11.228 19.307 15.668\n",
      " 20.29  18.427 10.548 16.434  7.013 15.203 14.615 15.559 10.151 12.78\n",
      "  7.524  6.526 15.302  4.939 10.582 17.853 12.264 19.373 15.97  15.35 ]\n"
     ]
    }
   ],
   "source": [
    "model = joblib.load(\"Advertise FinalModel.pkl\")\n",
    "print(model.predict(x_test))"
   ]
  },
  {
   "cell_type": "code",
   "execution_count": 86,
   "metadata": {},
   "outputs": [
    {
     "data": {
      "text/html": [
       "<div>\n",
       "<style scoped>\n",
       "    .dataframe tbody tr th:only-of-type {\n",
       "        vertical-align: middle;\n",
       "    }\n",
       "\n",
       "    .dataframe tbody tr th {\n",
       "        vertical-align: top;\n",
       "    }\n",
       "\n",
       "    .dataframe thead th {\n",
       "        text-align: right;\n",
       "    }\n",
       "</style>\n",
       "<table border=\"1\" class=\"dataframe\">\n",
       "  <thead>\n",
       "    <tr style=\"text-align: right;\">\n",
       "      <th></th>\n",
       "      <th>orginal</th>\n",
       "      <th>predicted</th>\n",
       "    </tr>\n",
       "  </thead>\n",
       "  <tbody>\n",
       "    <tr>\n",
       "      <th>0</th>\n",
       "      <td>14.5</td>\n",
       "      <td>14.655</td>\n",
       "    </tr>\n",
       "    <tr>\n",
       "      <th>1</th>\n",
       "      <td>7.0</td>\n",
       "      <td>7.412</td>\n",
       "    </tr>\n",
       "    <tr>\n",
       "      <th>2</th>\n",
       "      <td>23.2</td>\n",
       "      <td>23.129</td>\n",
       "    </tr>\n",
       "    <tr>\n",
       "      <th>3</th>\n",
       "      <td>7.3</td>\n",
       "      <td>7.289</td>\n",
       "    </tr>\n",
       "    <tr>\n",
       "      <th>4</th>\n",
       "      <td>5.3</td>\n",
       "      <td>6.428</td>\n",
       "    </tr>\n",
       "    <tr>\n",
       "      <th>5</th>\n",
       "      <td>21.8</td>\n",
       "      <td>22.331</td>\n",
       "    </tr>\n",
       "    <tr>\n",
       "      <th>6</th>\n",
       "      <td>11.2</td>\n",
       "      <td>11.106</td>\n",
       "    </tr>\n",
       "    <tr>\n",
       "      <th>7</th>\n",
       "      <td>15.5</td>\n",
       "      <td>15.405</td>\n",
       "    </tr>\n",
       "    <tr>\n",
       "      <th>8</th>\n",
       "      <td>10.1</td>\n",
       "      <td>9.977</td>\n",
       "    </tr>\n",
       "    <tr>\n",
       "      <th>9</th>\n",
       "      <td>11.7</td>\n",
       "      <td>12.671</td>\n",
       "    </tr>\n",
       "    <tr>\n",
       "      <th>10</th>\n",
       "      <td>19.7</td>\n",
       "      <td>20.039</td>\n",
       "    </tr>\n",
       "    <tr>\n",
       "      <th>11</th>\n",
       "      <td>22.3</td>\n",
       "      <td>22.101</td>\n",
       "    </tr>\n",
       "    <tr>\n",
       "      <th>12</th>\n",
       "      <td>9.7</td>\n",
       "      <td>9.756</td>\n",
       "    </tr>\n",
       "    <tr>\n",
       "      <th>13</th>\n",
       "      <td>25.4</td>\n",
       "      <td>25.128</td>\n",
       "    </tr>\n",
       "    <tr>\n",
       "      <th>14</th>\n",
       "      <td>10.8</td>\n",
       "      <td>10.511</td>\n",
       "    </tr>\n",
       "    <tr>\n",
       "      <th>15</th>\n",
       "      <td>8.4</td>\n",
       "      <td>9.345</td>\n",
       "    </tr>\n",
       "    <tr>\n",
       "      <th>16</th>\n",
       "      <td>25.5</td>\n",
       "      <td>24.678</td>\n",
       "    </tr>\n",
       "    <tr>\n",
       "      <th>17</th>\n",
       "      <td>10.9</td>\n",
       "      <td>11.228</td>\n",
       "    </tr>\n",
       "    <tr>\n",
       "      <th>18</th>\n",
       "      <td>19.2</td>\n",
       "      <td>19.307</td>\n",
       "    </tr>\n",
       "    <tr>\n",
       "      <th>19</th>\n",
       "      <td>17.4</td>\n",
       "      <td>15.668</td>\n",
       "    </tr>\n",
       "    <tr>\n",
       "      <th>20</th>\n",
       "      <td>20.2</td>\n",
       "      <td>20.290</td>\n",
       "    </tr>\n",
       "    <tr>\n",
       "      <th>21</th>\n",
       "      <td>19.0</td>\n",
       "      <td>18.427</td>\n",
       "    </tr>\n",
       "    <tr>\n",
       "      <th>22</th>\n",
       "      <td>10.4</td>\n",
       "      <td>10.548</td>\n",
       "    </tr>\n",
       "    <tr>\n",
       "      <th>23</th>\n",
       "      <td>17.6</td>\n",
       "      <td>16.434</td>\n",
       "    </tr>\n",
       "    <tr>\n",
       "      <th>24</th>\n",
       "      <td>7.2</td>\n",
       "      <td>7.013</td>\n",
       "    </tr>\n",
       "    <tr>\n",
       "      <th>25</th>\n",
       "      <td>16.0</td>\n",
       "      <td>15.203</td>\n",
       "    </tr>\n",
       "    <tr>\n",
       "      <th>26</th>\n",
       "      <td>15.2</td>\n",
       "      <td>14.615</td>\n",
       "    </tr>\n",
       "    <tr>\n",
       "      <th>27</th>\n",
       "      <td>14.8</td>\n",
       "      <td>15.559</td>\n",
       "    </tr>\n",
       "    <tr>\n",
       "      <th>28</th>\n",
       "      <td>9.7</td>\n",
       "      <td>10.151</td>\n",
       "    </tr>\n",
       "    <tr>\n",
       "      <th>29</th>\n",
       "      <td>13.2</td>\n",
       "      <td>12.780</td>\n",
       "    </tr>\n",
       "    <tr>\n",
       "      <th>30</th>\n",
       "      <td>7.2</td>\n",
       "      <td>7.524</td>\n",
       "    </tr>\n",
       "    <tr>\n",
       "      <th>31</th>\n",
       "      <td>5.6</td>\n",
       "      <td>6.526</td>\n",
       "    </tr>\n",
       "    <tr>\n",
       "      <th>32</th>\n",
       "      <td>15.9</td>\n",
       "      <td>15.302</td>\n",
       "    </tr>\n",
       "    <tr>\n",
       "      <th>33</th>\n",
       "      <td>5.7</td>\n",
       "      <td>4.939</td>\n",
       "    </tr>\n",
       "    <tr>\n",
       "      <th>34</th>\n",
       "      <td>10.1</td>\n",
       "      <td>10.582</td>\n",
       "    </tr>\n",
       "    <tr>\n",
       "      <th>35</th>\n",
       "      <td>18.0</td>\n",
       "      <td>17.853</td>\n",
       "    </tr>\n",
       "    <tr>\n",
       "      <th>36</th>\n",
       "      <td>12.0</td>\n",
       "      <td>12.264</td>\n",
       "    </tr>\n",
       "    <tr>\n",
       "      <th>37</th>\n",
       "      <td>20.1</td>\n",
       "      <td>19.373</td>\n",
       "    </tr>\n",
       "    <tr>\n",
       "      <th>38</th>\n",
       "      <td>15.9</td>\n",
       "      <td>15.970</td>\n",
       "    </tr>\n",
       "    <tr>\n",
       "      <th>39</th>\n",
       "      <td>14.9</td>\n",
       "      <td>15.350</td>\n",
       "    </tr>\n",
       "  </tbody>\n",
       "</table>\n",
       "</div>"
      ],
      "text/plain": [
       "    orginal  predicted\n",
       "0      14.5     14.655\n",
       "1       7.0      7.412\n",
       "2      23.2     23.129\n",
       "3       7.3      7.289\n",
       "4       5.3      6.428\n",
       "5      21.8     22.331\n",
       "6      11.2     11.106\n",
       "7      15.5     15.405\n",
       "8      10.1      9.977\n",
       "9      11.7     12.671\n",
       "10     19.7     20.039\n",
       "11     22.3     22.101\n",
       "12      9.7      9.756\n",
       "13     25.4     25.128\n",
       "14     10.8     10.511\n",
       "15      8.4      9.345\n",
       "16     25.5     24.678\n",
       "17     10.9     11.228\n",
       "18     19.2     19.307\n",
       "19     17.4     15.668\n",
       "20     20.2     20.290\n",
       "21     19.0     18.427\n",
       "22     10.4     10.548\n",
       "23     17.6     16.434\n",
       "24      7.2      7.013\n",
       "25     16.0     15.203\n",
       "26     15.2     14.615\n",
       "27     14.8     15.559\n",
       "28      9.7     10.151\n",
       "29     13.2     12.780\n",
       "30      7.2      7.524\n",
       "31      5.6      6.526\n",
       "32     15.9     15.302\n",
       "33      5.7      4.939\n",
       "34     10.1     10.582\n",
       "35     18.0     17.853\n",
       "36     12.0     12.264\n",
       "37     20.1     19.373\n",
       "38     15.9     15.970\n",
       "39     14.9     15.350"
      ]
     },
     "execution_count": 86,
     "metadata": {},
     "output_type": "execute_result"
    }
   ],
   "source": [
    "a = np.array(y_test)\n",
    "predicted = np.array(model.predict(x_test))\n",
    "df_con = pd.DataFrame({\"orginal\":a, \"predicted\":predicted}, index = range(len(a)))\n",
    "df_con"
   ]
  },
  {
   "cell_type": "markdown",
   "metadata": {},
   "source": [
    "# So predicated and original value match up to 99 % percent."
   ]
  },
  {
   "cell_type": "code",
   "execution_count": null,
   "metadata": {},
   "outputs": [],
   "source": []
  }
 ],
 "metadata": {
  "kernelspec": {
   "display_name": "Python 3",
   "language": "python",
   "name": "python3"
  },
  "language_info": {
   "codemirror_mode": {
    "name": "ipython",
    "version": 3
   },
   "file_extension": ".py",
   "mimetype": "text/x-python",
   "name": "python",
   "nbconvert_exporter": "python",
   "pygments_lexer": "ipython3",
   "version": "3.8.5"
  }
 },
 "nbformat": 4,
 "nbformat_minor": 4
}
